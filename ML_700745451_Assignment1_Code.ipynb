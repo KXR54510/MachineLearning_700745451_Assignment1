{
 "cells": [
  {
   "cell_type": "code",
   "execution_count": 15,
   "id": "aaca8f5e",
   "metadata": {},
   "outputs": [
    {
     "name": "stdout",
     "output_type": "stream",
     "text": [
      "Sorted List:  [19, 19, 20, 22, 24, 24, 24, 25, 25, 26]\n",
      "Minimum Age:  19\n",
      "Maximum Age:  26\n",
      "After adding Mininum and Maximum ages to the list:  [19, 19, 20, 22, 24, 24, 24, 25, 25, 26, 19, 26]\n",
      "Median Age:  24\n",
      "Average Age:  22.75\n",
      "Range: 7\n"
     ]
    }
   ],
   "source": [
    "#Question1\n",
    "\n",
    "#Create a list with ages of 10 students\n",
    "ages = [19, 22, 19, 24, 20, 25, 26, 24, 25, 24]\n",
    "\n",
    "#sort the list\n",
    "ages.sort()\n",
    "print(\"Sorted List: \",ages)\n",
    "\n",
    "#find the min and max age\n",
    "#min_age = min(ages)\n",
    "#max_age = max(ages)\n",
    "min_age = ages[0]\n",
    "max_age = ages[len(ages)-1]\n",
    "print(\"Minimum Age: \",min_age)\n",
    "print(\"Maximum Age: \",max_age)\n",
    "\n",
    "#add the min and max age again to  the list\n",
    "ages.append(min_age)\n",
    "ages.append(max_age)\n",
    "print(\"After adding Mininum and Maximum ages to the list: \",ages)\n",
    "\n",
    "#median of a list\n",
    "if (len(ages)%2 == 0):\n",
    "    x = int(len(ages)/2)\n",
    "    median_ages = int((ages[x-1] + ages[x])/2)\n",
    "else:\n",
    "    x = int((len(ages)-1)/2)\n",
    "    median_ages = ages[x]\n",
    "print(\"Median Age: \",median_ages)\n",
    "\n",
    "#average of the list\n",
    "sum = 0\n",
    "for i in ages:\n",
    "    sum += i\n",
    "average = sum/len(ages)\n",
    "print(\"Average Age: \",average)\n",
    "\n",
    "#range of the list\n",
    "print(\"Range:\", (max(ages)-min(ages)))"
   ]
  },
  {
   "cell_type": "code",
   "execution_count": 16,
   "id": "d9186f8f",
   "metadata": {},
   "outputs": [
    {
     "name": "stdout",
     "output_type": "stream",
     "text": [
      "{'Name': 'Eva', 'Color': 'Black and White', 'Breed': 'Golden Retriever', 'Legs': 4, 'Age': 6}\n",
      "{'first Name': 'John', 'last Name': 'Stinson', 'gender': 'male', 'age': '23', 'marital_stauts': 'single', 'skills': ['Java', 'Java Script', 'Python', 'SQL'], 'country': 'United States of America', 'city': 'Georgia', 'address': '13021 Bristol St'}\n",
      "9\n",
      "['Java', 'Java Script', 'Python', 'SQL']\n",
      "<class 'list'>\n",
      "{'first Name': 'John', 'last Name': 'Stinson', 'gender': 'male', 'age': '23', 'marital_stauts': 'single', 'skills': ['Java', 'Java Script', 'Python', 'SQL', 'Scripting', 'User Interface'], 'country': 'United States of America', 'city': 'Georgia', 'address': '13021 Bristol St'}\n",
      "dict_keys(['first Name', 'last Name', 'gender', 'age', 'marital_stauts', 'skills', 'country', 'city', 'address'])\n",
      "dict_values(['John', 'Stinson', 'male', '23', 'single', ['Java', 'Java Script', 'Python', 'SQL', 'Scripting', 'User Interface'], 'United States of America', 'Georgia', '13021 Bristol St'])\n"
     ]
    }
   ],
   "source": [
    "#Question2\n",
    "\n",
    "#Create an empty dictionary dog\n",
    "dog = {}\n",
    "\n",
    "#Add items to the dictionary\n",
    "dog['Name'] = 'Eva'\n",
    "dog['Color'] = 'Black and White'\n",
    "dog['Breed'] = 'Golden Retriever'\n",
    "dog ['Legs'] = 4\n",
    "dog['Age'] = 6\n",
    "print(dog)\n",
    "\n",
    "#Create a Student dictionary and add keys and values to it\n",
    "student = {\n",
    "        'first Name':'John', \n",
    "        'last Name':'Stinson',\n",
    "        'gender':'male',\n",
    "        'age': '23',\n",
    "        'marital_stauts':'single',\n",
    "        'skills':['Java', 'Java Script', 'Python', 'SQL'],\n",
    "        'country':'United States of America',\n",
    "        'city':'Georgia',\n",
    "        'address':'13021 Bristol St'}\n",
    "print(student)\n",
    "\n",
    "#print length of student dictionary\n",
    "print(len(student))\n",
    "\n",
    "#get the value of skills\n",
    "print(student.get('skills'))\n",
    "print(type(student.get('skills')))\n",
    "\n",
    "#add one or two skills to the list\n",
    "student['skills'].append('Scripting')\n",
    "student['skills'].append('User Interface')\n",
    "print(student)\n",
    "\n",
    "#get dictionary keys as list\n",
    "keys = student.keys()\n",
    "print(keys)\n",
    "\n",
    "#get dictionary values as list\n",
    "values = student.values()\n",
    "print(values)"
   ]
  },
  {
   "cell_type": "code",
   "execution_count": 17,
   "id": "f2ea434a",
   "metadata": {},
   "outputs": [
    {
     "name": "stdout",
     "output_type": "stream",
     "text": [
      "Sisters:  ('Meera', 'Sandhiya', 'Akshaya')\n",
      "Brothers:  ('Sandeep', 'Suraj')\n",
      "Siblings:  ('Meera', 'Sandhiya', 'Akshaya', 'Sandeep', 'Suraj')\n",
      "Total Number of Siblings: 5\n",
      "Family:  ('Meera', 'Sandhiya', 'Akshaya', 'Sandeep', 'Suraj', 'Ramesh', 'Meena')\n"
     ]
    }
   ],
   "source": [
    "#Question 3\n",
    "\n",
    "#create brothers and sisters tuples\n",
    "sisters = ('Meera','Sandhiya','Akshaya')\n",
    "brothers = ('Sandeep','Suraj')\n",
    "print(\"Sisters: \", sisters)\n",
    "print(\"Brothers: \", brothers)\n",
    "\n",
    "#join brothers and sisters tuples and assign it to siblings\n",
    "siblings = sisters + brothers\n",
    "print(\"Siblings: \", siblings)\n",
    "\n",
    "#print the number of siblings\n",
    "print(\"Total Number of Siblings:\", len(siblings))\n",
    "\n",
    "#add the name of parents to sibling tuple and assign it to family_members\n",
    "family_members = siblings + ('Ramesh','Meena')\n",
    "print(\"Family: \",family_members)"
   ]
  },
  {
   "cell_type": "code",
   "execution_count": 28,
   "id": "34ebc5a7",
   "metadata": {},
   "outputs": [
    {
     "name": "stdout",
     "output_type": "stream",
     "text": [
      "Lenght of it_companies set:  7\n",
      "{'Twitter', 'Apple', 'Microsoft', 'IBM', 'Google', 'Oracle', 'Amazon', 'Facebook'}\n",
      "{'Apple', 'Google', 'Oracle', 'Facebook', 'Microsoft', 'Wipro', 'Twitter', 'Walmart', 'IBM', 'TCS', 'Amazon'}\n",
      "{'Apple', 'Google', 'Oracle', 'Facebook', 'Microsoft', 'Wipro', 'Twitter', 'Walmart', 'IBM', 'Amazon'}\n",
      "{'Apple', 'Google', 'Oracle', 'Facebook', 'Microsoft', 'Wipro', 'Twitter', 'Walmart', 'IBM', 'Amazon'}\n"
     ]
    }
   ],
   "source": [
    "#Question 4 - Part 1\n",
    "\n",
    "it_companies = {'Facebook', 'Google', 'Microsoft', 'Apple', 'IBM', 'Oracle', 'Amazon'}\n",
    "\n",
    "#length of it_companies set\n",
    "print(\"Lenght of it_companies set: \", len(it_companies))\n",
    "\n",
    "#add Twitter to it_companies\n",
    "it_companies.add('Twitter')\n",
    "print(it_companies)\n",
    "\n",
    "#insert multiple it companies to the set at once\n",
    "it_companies.update(['Walmart','Wipro','TCS'])\n",
    "print(it_companies)\n",
    "\n",
    "#remove one item from it_companies set\n",
    "it_companies.remove('TCS')\n",
    "print(it_companies)\n",
    "\n",
    "#differcence between remove and discard\n",
    "#it_companies.remove('Netflix') #When the item to be removed is not in the set, the remove() function throws an error\n",
    "it_companies.discard('Intel') #when the item to be discarded is not in the set, the discard() function does not throw error\n",
    "print(it_companies)"
   ]
  },
  {
   "cell_type": "code",
   "execution_count": 21,
   "id": "ade04767",
   "metadata": {},
   "outputs": [
    {
     "name": "stdout",
     "output_type": "stream",
     "text": [
      "{19, 20, 22, 24, 25, 26, 27, 28}\n",
      "{19, 20, 22, 24, 25, 26}\n",
      "Is A subset of B:  True\n",
      "Are A and B disjoint sets:  False\n",
      "Set B:  {19, 20, 22, 24, 25, 26, 27, 28}\n",
      "Set A:  {19, 20, 22, 24, 25, 26, 27, 28}\n",
      "Symmetric Differece between A and B: set()\n"
     ]
    }
   ],
   "source": [
    "#Question 4 - Part 2\n",
    "\n",
    "A = {19, 22, 24, 20, 25, 26}\n",
    "B = {19, 22, 20, 25, 26, 24, 28, 27}\n",
    "\n",
    "#join sets A and B\n",
    "a_union_b = A.union(B)\n",
    "print(a_union_b)\n",
    "\n",
    "#get A intersection B\n",
    "a_intersection_b = A.intersection(B)\n",
    "print(a_intersection_b)\n",
    "\n",
    "#check if A is subset of B\n",
    "print(\"Is A subset of B: \", A.issubset(B))\n",
    "\n",
    "#check if A and B are disjoint\n",
    "print(\"Are A and B disjoint sets: \", A.isdisjoint(B))\n",
    "\n",
    "#join A with B\n",
    "B.update(A)\n",
    "print(\"Set B: \",B)\n",
    "\n",
    "#join B with A\n",
    "A.update(B)\n",
    "print(\"Set A: \",A)\n",
    "\n",
    "#get the symmetric difference between A and B\n",
    "sym_diff = A.symmetric_difference(B) #since we join A with B, and B with A, the symmetric diffcerence is null\n",
    "print(\"Symmetric Differece between A and B:\",sym_diff )\n",
    "\n",
    "#delete the sets\n",
    "del A\n",
    "del B\n",
    "#print(A) #when trying to print the set it throws error as the set was deleted completely"
   ]
  },
  {
   "cell_type": "code",
   "execution_count": 22,
   "id": "23566211",
   "metadata": {},
   "outputs": [
    {
     "name": "stdout",
     "output_type": "stream",
     "text": [
      "Age list converted to Set: {19, 22, 24, 25, 26}\n",
      "Length of age list: 8\n",
      "Length of age set: 5\n",
      "Difference in length: 3\n"
     ]
    }
   ],
   "source": [
    "#Question 4 - Part 3\n",
    "\n",
    "age = [22, 19, 24, 25, 26, 24, 25, 24]\n",
    "#convert ages list to set\n",
    "age_set = set(age)\n",
    "print(\"Age list converted to Set:\",age_set)\n",
    "\n",
    "#compare length of the age list and age set\n",
    "print(\"Length of age list:\", len(age))\n",
    "print(\"Length of age set:\",len(age_set))\n",
    "print(\"Difference in length:\", (len(age) - len(age_set))) # there is a difference because there is no repetion in sets"
   ]
  },
  {
   "cell_type": "code",
   "execution_count": 1,
   "id": "9fed0294",
   "metadata": {},
   "outputs": [
    {
     "name": "stdout",
     "output_type": "stream",
     "text": [
      "Enter radius of the Circle in meters: 30\n",
      "Area of the Circle is 2826.00 meter squared\n",
      "Circumference of the Circle is 188.40 meters\n"
     ]
    }
   ],
   "source": [
    "#Question 5\n",
    "\n",
    "#get the radius from the user\n",
    "radius = int(input(\"Enter radius of the Circle in meters: \"))\n",
    "\n",
    "#calcualte area of the circle\n",
    "area_of_circle = 3.14 * (radius**2)\n",
    "print(\"Area of the Circle is %0.2f\" %area_of_circle,\"meter squared\")\n",
    "\n",
    "#calculate circumference of the circle\n",
    "circum_of_circle = 2 * 3.14 * radius\n",
    "print(\"Circumference of the Circle is %0.2f\" %circum_of_circle, \"meters\")"
   ]
  },
  {
   "cell_type": "code",
   "execution_count": 24,
   "id": "600caeb6",
   "metadata": {},
   "outputs": [
    {
     "name": "stdout",
     "output_type": "stream",
     "text": [
      "{'and', 'a', 'am', 'teach', 'people', 'teacher', 'I', 'love', 'to', 'inspire'}\n"
     ]
    }
   ],
   "source": [
    "#Question 6\n",
    "\n",
    "sentence = \"I am a teacher and I love to inspire and teach people\"\n",
    "words = (sentence.split()) #split() splits the words in the sentence and form a list\n",
    "unique_words = set(words) #set() function converts list to set which avoids repetion so we get the unique words\n",
    "print(unique_words)"
   ]
  },
  {
   "cell_type": "code",
   "execution_count": 25,
   "id": "daac1446",
   "metadata": {},
   "outputs": [
    {
     "name": "stdout",
     "output_type": "stream",
     "text": [
      "Name\tAge\tCountry\tCity\n",
      "Rajini\t75\tIndia\tChennai\n"
     ]
    }
   ],
   "source": [
    "#Question 7\n",
    "\n",
    "#Use of tab espcape sequence\n",
    "print(\"Name\\tAge\\tCountry\\tCity\")\n",
    "print(\"Rajini\\t75\\tIndia\\tChennai\")"
   ]
  },
  {
   "cell_type": "code",
   "execution_count": 26,
   "id": "fe60ca82",
   "metadata": {},
   "outputs": [
    {
     "name": "stdout",
     "output_type": "stream",
     "text": [
      "The area of a circle with radius 10 is 314 meter squared\n"
     ]
    }
   ],
   "source": [
    "#Question 8\n",
    "\n",
    "radius = 10\n",
    "area = 3.14 * radius**2\n",
    "\n",
    "#displayed area and radius using string formatting\n",
    "print('The area of a circle with radius %d is %d meter squared' %(radius,area))"
   ]
  },
  {
   "cell_type": "code",
   "execution_count": 27,
   "id": "470320c3",
   "metadata": {},
   "outputs": [
    {
     "name": "stdout",
     "output_type": "stream",
     "text": [
      "Enter the No. of Students: 4\n",
      "150\n",
      "155\n",
      "145\n",
      "148\n",
      "Weight in lbs:  [150, 155, 145, 148]\n",
      "Weight in Kgs:  [68.03, 70.29, 65.76, 67.12]\n"
     ]
    }
   ],
   "source": [
    "#Question 9\n",
    "\n",
    "#create an empty list\n",
    "weight_list = []\n",
    "\n",
    "#get the list size and input from the user\n",
    "N = int (input(\"Enter the No. of Students: \"))\n",
    "for i in range(0,N):\n",
    "    item = int(input())\n",
    "    weight_list.append(item)\n",
    "\n",
    "#print the input list\n",
    "print(\"Weight in lbs: \", weight_list)\n",
    "\n",
    "#create the new list of weight in kg using list comprehension\n",
    "newList = [round(x/2.205,2) for x in weight_list]\n",
    "print (\"Weight in Kgs: \",newList)"
   ]
  }
 ],
 "metadata": {
  "kernelspec": {
   "display_name": "Python 3 (ipykernel)",
   "language": "python",
   "name": "python3"
  },
  "language_info": {
   "codemirror_mode": {
    "name": "ipython",
    "version": 3
   },
   "file_extension": ".py",
   "mimetype": "text/x-python",
   "name": "python",
   "nbconvert_exporter": "python",
   "pygments_lexer": "ipython3",
   "version": "3.9.13"
  }
 },
 "nbformat": 4,
 "nbformat_minor": 5
}
